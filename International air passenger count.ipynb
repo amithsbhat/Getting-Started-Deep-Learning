{
 "cells": [
  {
   "cell_type": "code",
   "execution_count": 8,
   "metadata": {},
   "outputs": [
    {
     "data": {
      "text/html": [
       "<div>\n",
       "<style scoped>\n",
       "    .dataframe tbody tr th:only-of-type {\n",
       "        vertical-align: middle;\n",
       "    }\n",
       "\n",
       "    .dataframe tbody tr th {\n",
       "        vertical-align: top;\n",
       "    }\n",
       "\n",
       "    .dataframe thead th {\n",
       "        text-align: right;\n",
       "    }\n",
       "</style>\n",
       "<table border=\"1\" class=\"dataframe\">\n",
       "  <thead>\n",
       "    <tr style=\"text-align: right;\">\n",
       "      <th></th>\n",
       "      <th>Month</th>\n",
       "      <th>International airline passengers: monthly totals in thousands. Jan 49 ? Dec 60</th>\n",
       "    </tr>\n",
       "  </thead>\n",
       "  <tbody>\n",
       "    <tr>\n",
       "      <td>0</td>\n",
       "      <td>1949-01</td>\n",
       "      <td>112.0</td>\n",
       "    </tr>\n",
       "    <tr>\n",
       "      <td>1</td>\n",
       "      <td>1949-02</td>\n",
       "      <td>118.0</td>\n",
       "    </tr>\n",
       "    <tr>\n",
       "      <td>2</td>\n",
       "      <td>1949-03</td>\n",
       "      <td>132.0</td>\n",
       "    </tr>\n",
       "    <tr>\n",
       "      <td>3</td>\n",
       "      <td>1949-04</td>\n",
       "      <td>129.0</td>\n",
       "    </tr>\n",
       "    <tr>\n",
       "      <td>4</td>\n",
       "      <td>1949-05</td>\n",
       "      <td>121.0</td>\n",
       "    </tr>\n",
       "  </tbody>\n",
       "</table>\n",
       "</div>"
      ],
      "text/plain": [
       "     Month  \\\n",
       "0  1949-01   \n",
       "1  1949-02   \n",
       "2  1949-03   \n",
       "3  1949-04   \n",
       "4  1949-05   \n",
       "\n",
       "   International airline passengers: monthly totals in thousands. Jan 49 ? Dec 60  \n",
       "0                                              112.0                               \n",
       "1                                              118.0                               \n",
       "2                                              132.0                               \n",
       "3                                              129.0                               \n",
       "4                                              121.0                               "
      ]
     },
     "execution_count": 8,
     "metadata": {},
     "output_type": "execute_result"
    }
   ],
   "source": [
    "import pandas as pd\n",
    "import matplotlib.pyplot as plt\n",
    "import numpy as np\n",
    "\n",
    "%matplotlib inline\n",
    "\n",
    "df = pd.read_csv(\"C:\\\\Contents\\\\Kaggle\\\\intl_airline_passengers\\\\international-airline-passengers.csv\")\n",
    "\n",
    "df.head()"
   ]
  },
  {
   "cell_type": "code",
   "execution_count": 2,
   "metadata": {},
   "outputs": [
    {
     "data": {
      "image/png": "[encoded data removed]",
      "text/plain": [
       "<Figure size 432x288 with 1 Axes>"
      ]
     },
     "metadata": {
      "needs_background": "light"
     },
     "output_type": "display_data"
    }
   ],
   "source": [
    "df.plot()\n",
    "plt.show()"
   ]
  },
  {
   "cell_type": "code",
   "execution_count": 3,
   "metadata": {},
   "outputs": [
    {
     "data": {
      "text/plain": [
       "Index(['Month', 'International airline passengers: monthly totals in thousands. Jan 49 ? Dec 60'], dtype='object')"
      ]
     },
     "execution_count": 3,
     "metadata": {},
     "output_type": "execute_result"
    }
   ],
   "source": [
    "df.columns"
   ]
  },
  {
   "cell_type": "code",
   "execution_count": null,
   "metadata": {},
   "outputs": [],
   "source": [
    "X = df['International airline passengers: monthly totals in thousands. Jan 49 ? Dec 60'].values"
   ]
  },
  {
   "cell_type": "code",
   "execution_count": 13,
   "metadata": {},
   "outputs": [
    {
     "data": {
      "text/plain": [
       "array([112., 118., 132., 129., 121.])"
      ]
     },
     "execution_count": 13,
     "metadata": {},
     "output_type": "execute_result"
    }
   ],
   "source": [
    "X[:5]"
   ]
  },
  {
   "cell_type": "code",
   "execution_count": 14,
   "metadata": {},
   "outputs": [
    {
     "name": "stdout",
     "output_type": "stream",
     "text": [
      "97 48\n"
     ]
    }
   ],
   "source": [
    "# split into train and test sets\n",
    "train_size = int(len(X) * 0.67)\n",
    "test_size = len(X) - train_size\n",
    "train, test = X[0:train_size], X[train_size:]\n",
    "print(len(train), len(test))"
   ]
  },
  {
   "cell_type": "code",
   "execution_count": 15,
   "metadata": {},
   "outputs": [
    {
     "data": {
      "text/plain": [
       "145"
      ]
     },
     "execution_count": 15,
     "metadata": {},
     "output_type": "execute_result"
    }
   ],
   "source": [
    "len(X)"
   ]
  },
  {
   "cell_type": "code",
   "execution_count": 16,
   "metadata": {},
   "outputs": [
    {
     "data": {
      "text/plain": [
       "numpy.ndarray"
      ]
     },
     "execution_count": 16,
     "metadata": {},
     "output_type": "execute_result"
    }
   ],
   "source": [
    "type(train)"
   ]
  },
  {
   "cell_type": "code",
   "execution_count": 20,
   "metadata": {},
   "outputs": [],
   "source": [
    "def create_dataset(dataset, look_back=1):\n",
    "    datalen = len(dataset)\n",
    "    x1, x2 = [], []\n",
    "    for i in range(datalen-look_back-1):\n",
    "        x1.append(dataset[i])\n",
    "        x2.append(dataset[i+look_back])\n",
    "    return x1, x2\n",
    "X_train, y_train = create_dataset(train)\n",
    "X_test, y_test = create_dataset(test)"
   ]
  },
  {
   "cell_type": "code",
   "execution_count": 22,
   "metadata": {},
   "outputs": [
    {
     "data": {
      "text/plain": [
       "([112.0, 118.0, 132.0, 129.0, 121.0], [118.0, 132.0, 129.0, 121.0, 135.0])"
      ]
     },
     "execution_count": 22,
     "metadata": {},
     "output_type": "execute_result"
    }
   ],
   "source": [
    "X_train[:5], y_train[:5]"
   ]
  },
  {
   "cell_type": "code",
   "execution_count": 25,
   "metadata": {},
   "outputs": [
    {
     "name": "stdout",
     "output_type": "stream",
     "text": [
      "Epoch 1/200\n",
      " - 0s - loss: 58023.3279\n",
      "Epoch 2/200\n",
      " - 0s - loss: 51197.6481\n",
      "Epoch 3/200\n",
      " - 0s - loss: 46925.9534\n",
      "Epoch 4/200\n",
      " - 0s - loss: 44098.7652\n",
      "Epoch 5/200\n",
      " - 0s - loss: 40618.4003\n",
      "Epoch 6/200\n",
      " - 0s - loss: 36647.1485\n",
      "Epoch 7/200\n",
      " - 0s - loss: 32219.7639\n",
      "Epoch 8/200\n",
      " - 0s - loss: 27579.1080\n",
      "Epoch 9/200\n",
      " - 0s - loss: 23051.7233\n",
      "Epoch 10/200\n",
      " - 0s - loss: 18662.6051\n",
      "Epoch 11/200\n",
      " - 0s - loss: 14755.7968\n",
      "Epoch 12/200\n",
      " - 0s - loss: 11273.4846\n",
      "Epoch 13/200\n",
      " - 0s - loss: 8352.0105\n",
      "Epoch 14/200\n",
      " - 0s - loss: 5986.5223\n",
      "Epoch 15/200\n",
      " - 0s - loss: 4203.0947\n",
      "Epoch 16/200\n",
      " - 0s - loss: 2885.0854\n",
      "Epoch 17/200\n",
      " - 0s - loss: 1981.8182\n",
      "Epoch 18/200\n",
      " - 0s - loss: 1396.0663\n",
      "Epoch 19/200\n",
      " - 0s - loss: 1016.6800\n",
      "Epoch 20/200\n",
      " - 0s - loss: 795.5811\n",
      "Epoch 21/200\n",
      " - 0s - loss: 672.0193\n",
      "Epoch 22/200\n",
      " - 0s - loss: 603.2083\n",
      "Epoch 23/200\n",
      " - 0s - loss: 568.4520\n",
      "Epoch 24/200\n",
      " - 0s - loss: 553.9065\n",
      "Epoch 25/200\n",
      " - 0s - loss: 546.4570\n",
      "Epoch 26/200\n",
      " - 0s - loss: 544.7500\n",
      "Epoch 27/200\n",
      " - 0s - loss: 542.8991\n",
      "Epoch 28/200\n",
      " - 0s - loss: 542.1249\n",
      "Epoch 29/200\n",
      " - 0s - loss: 542.1113\n",
      "Epoch 30/200\n",
      " - 0s - loss: 541.0365\n",
      "Epoch 31/200\n",
      " - 0s - loss: 541.9254\n",
      "Epoch 32/200\n",
      " - 0s - loss: 541.7214\n",
      "Epoch 33/200\n",
      " - 0s - loss: 541.2609\n",
      "Epoch 34/200\n",
      " - 0s - loss: 541.2539\n",
      "Epoch 35/200\n",
      " - 0s - loss: 542.1403\n",
      "Epoch 36/200\n",
      " - 0s - loss: 544.8366\n",
      "Epoch 37/200\n",
      " - 0s - loss: 543.5886\n",
      "Epoch 38/200\n",
      " - 0s - loss: 540.8304\n",
      "Epoch 39/200\n",
      " - 0s - loss: 542.7433\n",
      "Epoch 40/200\n",
      " - 0s - loss: 540.7143\n",
      "Epoch 41/200\n",
      " - 0s - loss: 542.1118\n",
      "Epoch 42/200\n",
      " - 0s - loss: 540.5479\n",
      "Epoch 43/200\n",
      " - 0s - loss: 542.0129\n",
      "Epoch 44/200\n",
      " - 0s - loss: 542.6129\n",
      "Epoch 45/200\n",
      " - 0s - loss: 542.8208\n",
      "Epoch 46/200\n",
      " - 0s - loss: 542.1777\n",
      "Epoch 47/200\n",
      " - 0s - loss: 542.4734\n",
      "Epoch 48/200\n",
      " - 0s - loss: 541.5368\n",
      "Epoch 49/200\n",
      " - 0s - loss: 541.6820\n",
      "Epoch 50/200\n",
      " - 0s - loss: 547.8101\n",
      "Epoch 51/200\n",
      " - 0s - loss: 542.1255\n",
      "Epoch 52/200\n",
      " - 0s - loss: 543.1486\n",
      "Epoch 53/200\n",
      " - 0s - loss: 540.1043\n",
      "Epoch 54/200\n",
      " - 0s - loss: 542.3044\n",
      "Epoch 55/200\n",
      " - 0s - loss: 543.3260\n",
      "Epoch 56/200\n",
      " - 0s - loss: 544.2172\n",
      "Epoch 57/200\n",
      " - 0s - loss: 545.0069\n",
      "Epoch 58/200\n",
      " - 0s - loss: 540.9941\n",
      "Epoch 59/200\n",
      " - 0s - loss: 547.1075\n",
      "Epoch 60/200\n",
      " - 0s - loss: 541.6082\n",
      "Epoch 61/200\n",
      " - 0s - loss: 546.5581\n",
      "Epoch 62/200\n",
      " - 0s - loss: 541.2203\n",
      "Epoch 63/200\n",
      " - 0s - loss: 542.3406\n",
      "Epoch 64/200\n",
      " - 0s - loss: 547.0547\n",
      "Epoch 65/200\n",
      " - 0s - loss: 542.8631\n",
      "Epoch 66/200\n",
      " - 0s - loss: 541.8080\n",
      "Epoch 67/200\n",
      " - 0s - loss: 541.9540\n",
      "Epoch 68/200\n",
      " - 0s - loss: 542.2977\n",
      "Epoch 69/200\n",
      " - 0s - loss: 541.1225\n",
      "Epoch 70/200\n",
      " - 0s - loss: 544.0981\n",
      "Epoch 71/200\n",
      " - 0s - loss: 544.8861\n",
      "Epoch 72/200\n",
      " - 0s - loss: 542.6650\n",
      "Epoch 73/200\n",
      " - 0s - loss: 542.3203\n",
      "Epoch 74/200\n",
      " - 0s - loss: 542.0635\n",
      "Epoch 75/200\n",
      " - 0s - loss: 544.1847\n",
      "Epoch 76/200\n",
      " - 0s - loss: 542.6283\n",
      "Epoch 77/200\n",
      " - 0s - loss: 543.0993\n",
      "Epoch 78/200\n",
      " - 0s - loss: 545.0838\n",
      "Epoch 79/200\n",
      " - 0s - loss: 543.4601\n",
      "Epoch 80/200\n",
      " - 0s - loss: 544.9564\n",
      "Epoch 81/200\n",
      " - 0s - loss: 544.2229\n",
      "Epoch 82/200\n",
      " - 0s - loss: 547.7547\n",
      "Epoch 83/200\n",
      " - 0s - loss: 544.6172\n",
      "Epoch 84/200\n",
      " - 0s - loss: 542.0944\n",
      "Epoch 85/200\n",
      " - 0s - loss: 541.8105\n",
      "Epoch 86/200\n",
      " - 0s - loss: 542.9237\n",
      "Epoch 87/200\n",
      " - 0s - loss: 542.5047\n",
      "Epoch 88/200\n",
      " - 0s - loss: 541.2144\n",
      "Epoch 89/200\n",
      " - 0s - loss: 541.7111\n",
      "Epoch 90/200\n",
      " - 0s - loss: 542.4648\n",
      "Epoch 91/200\n",
      " - 0s - loss: 543.3094\n",
      "Epoch 92/200\n",
      " - 0s - loss: 546.1501\n",
      "Epoch 93/200\n",
      " - 0s - loss: 543.2823\n",
      "Epoch 94/200\n",
      " - 0s - loss: 549.7521\n",
      "Epoch 95/200\n",
      " - 0s - loss: 544.4895\n",
      "Epoch 96/200\n",
      " - 0s - loss: 542.1096\n",
      "Epoch 97/200\n",
      " - 0s - loss: 543.1267\n",
      "Epoch 98/200\n",
      " - 0s - loss: 542.9072\n",
      "Epoch 99/200\n",
      " - 0s - loss: 543.0784\n",
      "Epoch 100/200\n",
      " - 0s - loss: 546.1728\n",
      "Epoch 101/200\n",
      " - 0s - loss: 551.8115\n",
      "Epoch 102/200\n",
      " - 0s - loss: 550.2894\n",
      "Epoch 103/200\n",
      " - 0s - loss: 546.6185\n",
      "Epoch 104/200\n",
      " - 0s - loss: 546.5700\n",
      "Epoch 105/200\n",
      " - 0s - loss: 542.3492\n",
      "Epoch 106/200\n",
      " - 0s - loss: 546.3359\n",
      "Epoch 107/200\n",
      " - 0s - loss: 544.7679\n",
      "Epoch 108/200\n",
      " - 0s - loss: 542.0573\n",
      "Epoch 109/200\n",
      " - 0s - loss: 540.6226\n",
      "Epoch 110/200\n",
      " - 0s - loss: 544.1633\n",
      "Epoch 111/200\n",
      " - 0s - loss: 543.6567\n",
      "Epoch 112/200\n",
      " - 0s - loss: 544.2191\n",
      "Epoch 113/200\n",
      " - 0s - loss: 544.2152\n",
      "Epoch 114/200\n",
      " - 0s - loss: 550.0275\n",
      "Epoch 115/200\n",
      " - 0s - loss: 540.7970\n",
      "Epoch 116/200\n",
      " - 0s - loss: 545.1612\n",
      "Epoch 117/200\n",
      " - 0s - loss: 542.7411\n",
      "Epoch 118/200\n",
      " - 0s - loss: 540.3416\n",
      "Epoch 119/200\n",
      " - 0s - loss: 541.9112\n",
      "Epoch 120/200\n",
      " - 0s - loss: 548.3894\n",
      "Epoch 121/200\n",
      " - 0s - loss: 544.0482\n",
      "Epoch 122/200\n",
      " - 0s - loss: 547.3995\n",
      "Epoch 123/200\n",
      " - 0s - loss: 541.2397\n",
      "Epoch 124/200\n",
      " - 0s - loss: 543.4146\n",
      "Epoch 125/200\n",
      " - 0s - loss: 541.6772\n",
      "Epoch 126/200\n",
      " - 0s - loss: 542.4640\n",
      "Epoch 127/200\n",
      " - 0s - loss: 543.6591\n",
      "Epoch 128/200\n",
      " - 0s - loss: 544.2924\n",
      "Epoch 129/200\n",
      " - 0s - loss: 544.5760\n",
      "Epoch 130/200\n",
      " - 0s - loss: 546.3424\n",
      "Epoch 131/200\n",
      " - 0s - loss: 540.9534\n",
      "Epoch 132/200\n",
      " - 0s - loss: 546.8727\n",
      "Epoch 133/200\n",
      " - 0s - loss: 543.2883\n",
      "Epoch 134/200\n",
      " - 0s - loss: 540.7539\n",
      "Epoch 135/200\n",
      " - 0s - loss: 542.2711\n",
      "Epoch 136/200\n",
      " - 0s - loss: 544.6681\n",
      "Epoch 137/200\n",
      " - 0s - loss: 541.3723\n",
      "Epoch 138/200\n",
      " - 0s - loss: 539.8918\n",
      "Epoch 139/200\n",
      " - 0s - loss: 549.4611\n",
      "Epoch 140/200\n",
      " - 0s - loss: 544.4168\n",
      "Epoch 141/200\n",
      " - 0s - loss: 541.0171\n",
      "Epoch 142/200\n",
      " - 0s - loss: 542.7973\n",
      "Epoch 143/200\n",
      " - 0s - loss: 543.2919\n",
      "Epoch 144/200\n",
      " - 0s - loss: 543.4068\n",
      "Epoch 145/200\n",
      " - 0s - loss: 543.7804\n",
      "Epoch 146/200\n",
      " - 0s - loss: 541.8702\n",
      "Epoch 147/200\n",
      " - 0s - loss: 549.3486\n",
      "Epoch 148/200\n",
      " - 0s - loss: 543.2946\n",
      "Epoch 149/200\n",
      " - 0s - loss: 541.4875\n",
      "Epoch 150/200\n",
      " - 0s - loss: 548.7771\n",
      "Epoch 151/200\n",
      " - 0s - loss: 544.2792\n",
      "Epoch 152/200\n",
      " - 0s - loss: 547.5455\n",
      "Epoch 153/200\n",
      " - 0s - loss: 539.4635\n",
      "Epoch 154/200\n",
      " - 0s - loss: 543.3308\n",
      "Epoch 155/200\n",
      " - 0s - loss: 539.6391\n",
      "Epoch 156/200\n",
      " - 0s - loss: 540.0646\n",
      "Epoch 157/200\n",
      " - 0s - loss: 544.0608\n",
      "Epoch 158/200\n",
      " - 0s - loss: 546.8528\n",
      "Epoch 159/200\n",
      " - 0s - loss: 542.5738\n",
      "Epoch 160/200\n",
      " - 0s - loss: 543.7219\n",
      "Epoch 161/200\n",
      " - 0s - loss: 552.7130\n",
      "Epoch 162/200\n",
      " - 0s - loss: 548.0805\n",
      "Epoch 163/200\n",
      " - 0s - loss: 547.6472\n",
      "Epoch 164/200\n",
      " - 0s - loss: 547.9458\n",
      "Epoch 165/200\n",
      " - 0s - loss: 541.5586\n",
      "Epoch 166/200\n",
      " - 0s - loss: 540.2503\n",
      "Epoch 167/200\n",
      " - 0s - loss: 542.4715\n",
      "Epoch 168/200\n",
      " - 0s - loss: 544.1036\n",
      "Epoch 169/200\n",
      " - 0s - loss: 546.4413\n",
      "Epoch 170/200\n",
      " - 0s - loss: 546.4146\n",
      "Epoch 171/200\n",
      " - 0s - loss: 542.7482\n",
      "Epoch 172/200\n",
      " - 0s - loss: 543.1358\n",
      "Epoch 173/200\n",
      " - 0s - loss: 546.7880\n",
      "Epoch 174/200\n",
      " - 0s - loss: 544.9594\n",
      "Epoch 175/200\n",
      " - 0s - loss: 545.5526\n",
      "Epoch 176/200\n",
      " - 0s - loss: 540.8520\n",
      "Epoch 177/200\n",
      " - 0s - loss: 544.3606\n",
      "Epoch 178/200\n",
      " - 0s - loss: 540.9374\n",
      "Epoch 179/200\n",
      " - 0s - loss: 544.2515\n",
      "Epoch 180/200\n",
      " - 0s - loss: 547.0091\n",
      "Epoch 181/200\n",
      " - 0s - loss: 543.6392\n",
      "Epoch 182/200\n",
      " - 0s - loss: 546.4415\n",
      "Epoch 183/200\n",
      " - 0s - loss: 546.6571\n",
      "Epoch 184/200\n",
      " - 0s - loss: 544.2354\n",
      "Epoch 185/200\n",
      " - 0s - loss: 541.3098\n",
      "Epoch 186/200\n",
      " - 0s - loss: 542.6660\n",
      "Epoch 187/200\n",
      " - 0s - loss: 541.9257\n",
      "Epoch 188/200\n",
      " - 0s - loss: 540.4161\n",
      "Epoch 189/200\n",
      " - 0s - loss: 544.5271\n",
      "Epoch 190/200\n",
      " - 0s - loss: 544.6924\n",
      "Epoch 191/200\n",
      " - 0s - loss: 544.4083\n",
      "Epoch 192/200\n",
      " - 0s - loss: 541.4168\n",
      "Epoch 193/200\n",
      " - 0s - loss: 543.1090\n",
      "Epoch 194/200\n",
      " - 0s - loss: 543.0315\n",
      "Epoch 195/200\n",
      " - 0s - loss: 544.1336\n",
      "Epoch 196/200\n",
      " - 0s - loss: 541.5865\n",
      "Epoch 197/200\n",
      " - 0s - loss: 545.1279\n",
      "Epoch 198/200\n",
      " - 0s - loss: 538.7408\n",
      "Epoch 199/200\n",
      " - 0s - loss: 546.2908\n",
      "Epoch 200/200\n",
      " - 0s - loss: 551.2682\n"
     ]
    },
    {
     "data": {
      "text/plain": [
       "<keras.callbacks.callbacks.History at 0x20cb9041588>"
      ]
     },
     "execution_count": 25,
     "metadata": {},
     "output_type": "execute_result"
    }
   ],
   "source": [
    "from keras.models import Sequential\n",
    "from keras.layers import Dense\n",
    "look_back = 1 \n",
    "model = Sequential()\n",
    "model.add(Dense(8, input_dim=look_back, kernel_initializer='normal', activation = 'relu'))\n",
    "model.add(Dense(1))\n",
    "model.compile(loss='mean_squared_error', optimizer='adam')\n",
    "model.fit(X_train, y_train, epochs=200, batch_size=2, verbose=2)"
   ]
  },
  {
   "cell_type": "code",
   "execution_count": 26,
   "metadata": {},
   "outputs": [
    {
     "data": {
      "text/plain": [
       "2385.417777683424"
      ]
     },
     "execution_count": 26,
     "metadata": {},
     "output_type": "execute_result"
    }
   ],
   "source": [
    "model.evaluate(X_test, y_test, verbose=0)"
   ]
  },
  {
   "cell_type": "code",
   "execution_count": 28,
   "metadata": {},
   "outputs": [
    {
     "name": "stdout",
     "output_type": "stream",
     "text": [
      "Train Score: 537.28 MSE (23.18 RMSE)\n",
      "Test Score: 2385.42 MSE (48.84 RMSE)\n"
     ]
    }
   ],
   "source": [
    "import math\n",
    "# Estimate model performance\n",
    "trainScore = model.evaluate(X_train, y_train, verbose=0)\n",
    "print( 'Train Score: %.2f MSE (%.2f RMSE)' % (trainScore, math.sqrt(trainScore)))\n",
    "testScore = model.evaluate(X_test, y_test, verbose=0)\n",
    "print( 'Test Score: %.2f MSE (%.2f RMSE)' % (testScore, math.sqrt(testScore)))"
   ]
  },
  {
   "cell_type": "code",
   "execution_count": null,
   "metadata": {},
   "outputs": [],
   "source": []
  }
 ],
 "metadata": {
  "kernelspec": {
   "display_name": "Python 3",
   "language": "python",
   "name": "python3"
  },
  "language_info": {
   "codemirror_mode": {
    "name": "ipython",
    "version": 3
   },
   "file_extension": ".py",
   "mimetype": "text/x-python",
   "name": "python",
   "nbconvert_exporter": "python",
   "pygments_lexer": "ipython3",
   "version": "3.7.4"
  }
 },
 "nbformat": 4,
 "nbformat_minor": 2
}
